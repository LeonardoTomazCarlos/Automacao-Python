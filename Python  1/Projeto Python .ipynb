{
 "cells": [
  {
   "cell_type": "markdown",
   "id": "a752cf1e",
   "metadata": {},
   "source": [
    "# Projeto 1 "
   ]
  },
  {
   "cell_type": "markdown",
   "id": "d3068748",
   "metadata": {},
   "source": [
    "## Mostrandio informações para os usuários "
   ]
  },
  {
   "cell_type": "code",
   "execution_count": 1,
   "id": "0d189908",
   "metadata": {},
   "outputs": [
    {
     "name": "stdout",
     "output_type": "stream",
     "text": [
      "Projeto 1\n"
     ]
    }
   ],
   "source": [
    "print(\"Projeto 1\")"
   ]
  },
  {
   "cell_type": "code",
   "execution_count": 2,
   "id": "bcffecba",
   "metadata": {},
   "outputs": [
    {
     "name": "stdout",
     "output_type": "stream",
     "text": [
      "Digite seu nome: Leonardo\n",
      "Qual linmguagem voce esta aprendendo? Python\n"
     ]
    },
    {
     "data": {
      "text/plain": [
       "'Python'"
      ]
     },
     "execution_count": 2,
     "metadata": {},
     "output_type": "execute_result"
    }
   ],
   "source": [
    "input(\"Digite seu nome: \")\n",
    "input(\"Qual linmguagem voce esta aprendendo? \")"
   ]
  },
  {
   "cell_type": "markdown",
   "id": "b7874298",
   "metadata": {},
   "source": [
    "## Armazenando dados em uma variável "
   ]
  },
  {
   "cell_type": "code",
   "execution_count": 3,
   "id": "719c3914",
   "metadata": {},
   "outputs": [],
   "source": [
    "nome = \"Leonardo\""
   ]
  },
  {
   "cell_type": "code",
   "execution_count": 4,
   "id": "4fc1005d",
   "metadata": {},
   "outputs": [
    {
     "name": "stdout",
     "output_type": "stream",
     "text": [
      "Leonardo\n"
     ]
    }
   ],
   "source": [
    "print (nome)"
   ]
  },
  {
   "cell_type": "code",
   "execution_count": 5,
   "id": "1e740e69",
   "metadata": {},
   "outputs": [
    {
     "name": "stdout",
     "output_type": "stream",
     "text": [
      "Digite a descrição do projeto: Automação Exel\n",
      "Digite a quantidade de horas trabalhadas: 200\n",
      "Digite o valor da hora trabalhada: 200\n",
      "Digite o prazo do projeto: 3 meses\n"
     ]
    }
   ],
   "source": [
    "projeto = input(\"Digite a descrição do projeto: \")\n",
    "horas_previstas = input (\"Digite a quantidade de horas trabalhadas: \")\n",
    "valor_hora = input(\"Digite o valor da hora trabalhada: \")\n",
    "prazo = input(\"Digite o prazo do projeto: \")"
   ]
  },
  {
   "cell_type": "code",
   "execution_count": 6,
   "id": "991f05aa",
   "metadata": {},
   "outputs": [
    {
     "name": "stdout",
     "output_type": "stream",
     "text": [
      "200\n"
     ]
    }
   ],
   "source": [
    "print(horas_previstas)"
   ]
  },
  {
   "cell_type": "markdown",
   "id": "0b0b0d36",
   "metadata": {},
   "source": [
    "## Realizando cálculos na linguagem Python\n",
    "\n",
    "Valor total do projeto= horas previstas * valor hora"
   ]
  },
  {
   "cell_type": "code",
   "execution_count": 7,
   "id": "ec4c2f8a",
   "metadata": {},
   "outputs": [],
   "source": [
    "valor_total = int(valor_hora) * int(horas_previstas)"
   ]
  },
  {
   "cell_type": "code",
   "execution_count": 8,
   "id": "43b6e070",
   "metadata": {},
   "outputs": [
    {
     "data": {
      "text/plain": [
       "int"
      ]
     },
     "execution_count": 8,
     "metadata": {},
     "output_type": "execute_result"
    }
   ],
   "source": [
    "type(int(\"1000\"))"
   ]
  },
  {
   "cell_type": "markdown",
   "id": "d4c32cca",
   "metadata": {},
   "source": [
    "## Tipos de dados\n",
    "Texto: str toda informação que vem de 'input' é texto\n",
    "Números: int"
   ]
  },
  {
   "cell_type": "code",
   "execution_count": 9,
   "id": "90df8594",
   "metadata": {},
   "outputs": [
    {
     "data": {
      "text/plain": [
       "str"
      ]
     },
     "execution_count": 9,
     "metadata": {},
     "output_type": "execute_result"
    }
   ],
   "source": [
    "type(str(\"1500\"))"
   ]
  },
  {
   "cell_type": "markdown",
   "id": "0a04e108",
   "metadata": {},
   "source": [
    "## Gerar PDF do Orçamento"
   ]
  },
  {
   "cell_type": "code",
   "execution_count": 10,
   "id": "4e27c31e",
   "metadata": {},
   "outputs": [
    {
     "name": "stdout",
     "output_type": "stream",
     "text": [
      "Requirement already satisfied: fpdf in c:\\users\\leonardo tomaz\\anaconda3\\lib\\site-packages (1.7.2)\n"
     ]
    }
   ],
   "source": [
    "!pip install fpdf"
   ]
  },
  {
   "cell_type": "code",
   "execution_count": 13,
   "id": "9b1d10a0",
   "metadata": {},
   "outputs": [],
   "source": [
    "from fpdf import FPDF"
   ]
  },
  {
   "cell_type": "code",
   "execution_count": 14,
   "id": "e1861ab8",
   "metadata": {},
   "outputs": [
    {
     "name": "stdout",
     "output_type": "stream",
     "text": [
      "Orçamento gerado com sucesso\n"
     ]
    }
   ],
   "source": [
    "pdf = FPDF()\n",
    "\n",
    "pdf.add_page()\n",
    "pdf.set_font(\"Arial\")\n",
    "\n",
    "pdf.image(\"template.png\", x=0, y=0)\n",
    "\n",
    "pdf.text(115, 145, projeto)\n",
    "pdf.text(115, 160, horas_previstas)\n",
    "pdf.text(115, 175, valor_hora)\n",
    "pdf.text(115, 190, prazo)\n",
    "pdf.text(115, 205, str(valor_total))\n",
    "\n",
    "pdf.output(\"Orçamento.pdf\")\n",
    "\n",
    "print(\"Orçamento gerado com sucesso\")"
   ]
  },
  {
   "cell_type": "code",
   "execution_count": null,
   "id": "28e77b4e",
   "metadata": {},
   "outputs": [],
   "source": []
  },
  {
   "cell_type": "code",
   "execution_count": null,
   "id": "8ce243a1",
   "metadata": {},
   "outputs": [],
   "source": []
  }
 ],
 "metadata": {
  "kernelspec": {
   "display_name": "Python 3 (ipykernel)",
   "language": "python",
   "name": "python3"
  },
  "language_info": {
   "codemirror_mode": {
    "name": "ipython",
    "version": 3
   },
   "file_extension": ".py",
   "mimetype": "text/x-python",
   "name": "python",
   "nbconvert_exporter": "python",
   "pygments_lexer": "ipython3",
   "version": "3.11.5"
  }
 },
 "nbformat": 4,
 "nbformat_minor": 5
}
